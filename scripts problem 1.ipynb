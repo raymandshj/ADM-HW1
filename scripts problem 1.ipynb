{
 "cells": [
  {
   "cell_type": "markdown",
   "id": "d4a55059",
   "metadata": {},
   "source": [
    "#### Say \"Hello, World!\" With Python"
   ]
  },
  {
   "cell_type": "code",
   "execution_count": null,
   "id": "77dd9b54",
   "metadata": {},
   "outputs": [],
   "source": [
    "if __name__ == '__main__':\n",
    "    print(\"Hello, World!\");\n"
   ]
  },
  {
   "cell_type": "markdown",
   "id": "b8b686c5",
   "metadata": {},
   "source": [
    "#### Arithmetic Operators"
   ]
  },
  {
   "cell_type": "code",
   "execution_count": null,
   "id": "ce5e23a3",
   "metadata": {},
   "outputs": [],
   "source": [
    "if __name__ == '__main__':\n",
    "    a = int(input())\n",
    "    b = int(input())\n",
    "    print(a+b);\n",
    "    print(a-b);\n",
    "    print(a*b);\n"
   ]
  },
  {
   "cell_type": "markdown",
   "id": "4af4f295",
   "metadata": {},
   "source": [
    "#### Python: Division"
   ]
  },
  {
   "cell_type": "code",
   "execution_count": null,
   "id": "432fb246",
   "metadata": {},
   "outputs": [],
   "source": [
    "if __name__ == '__main__':\n",
    "    a = int(input())\n",
    "    b = int(input())\n",
    "    print(a//b);\n",
    "    print(a/b);\n"
   ]
  },
  {
   "cell_type": "markdown",
   "id": "275bf809",
   "metadata": {},
   "source": [
    "#### Loops"
   ]
  },
  {
   "cell_type": "code",
   "execution_count": null,
   "id": "b0e19584",
   "metadata": {},
   "outputs": [],
   "source": [
    "if __name__ == '__main__':\n",
    "    n = int(input())\n",
    "for i in range(0, n):\n",
    "    print (i**2);\n",
    "    \n"
   ]
  },
  {
   "cell_type": "markdown",
   "id": "8e145d44",
   "metadata": {},
   "source": [
    "#### Write a function"
   ]
  },
  {
   "cell_type": "code",
   "execution_count": null,
   "id": "b5f649a8",
   "metadata": {},
   "outputs": [],
   "source": [
    "def is_leap(year):\n",
    "    leap = False\n",
    "    \n",
    "    if(year%400==0):\n",
    "        leap=True\n",
    "    elif(year%100==0):\n",
    "        leap=False\n",
    "    elif(year%4==0):\n",
    "        leap=True\n",
    "    return leap\n",
    "\n"
   ]
  },
  {
   "cell_type": "markdown",
   "id": "a602404b",
   "metadata": {},
   "source": [
    "#### Print Function"
   ]
  },
  {
   "cell_type": "code",
   "execution_count": null,
   "id": "2da8d008",
   "metadata": {},
   "outputs": [],
   "source": [
    "if __name__ == '__main__':\n",
    "    n = int(input())\n",
    "    for i in range(n):\n",
    "        print(i+1,end=\"\");\n"
   ]
  },
  {
   "cell_type": "markdown",
   "id": "03a60f1b",
   "metadata": {},
   "source": [
    "#### Python If-Else"
   ]
  },
  {
   "cell_type": "code",
   "execution_count": null,
   "id": "c1ea9572",
   "metadata": {},
   "outputs": [],
   "source": [
    "#!/bin/python3\n",
    "\n",
    "import math\n",
    "import os\n",
    "import random\n",
    "import re\n",
    "import sys\n",
    "\n",
    "\n",
    "\n",
    "if __name__ == '__main__':\n",
    "    n = int(input().strip())\n",
    "if n%2==1:\n",
    "    print(\"Weird\");\n",
    "elif n>=2 and n<=5:\n",
    "    print(\"Not Weird\");\n",
    "elif n>=6 and n<=20:\n",
    "    print(\"Weird\");\n",
    "else:\n",
    "    print(\"Not Weird\");\n"
   ]
  },
  {
   "cell_type": "markdown",
   "id": "22aa9ca6",
   "metadata": {},
   "source": [
    "#### Python If-Else"
   ]
  },
  {
   "cell_type": "code",
   "execution_count": null,
   "id": "1e7b826a",
   "metadata": {},
   "outputs": [],
   "source": [
    "#!/bin/python3\n",
    "\n",
    "import math\n",
    "import os\n",
    "import random\n",
    "import re\n",
    "import sys\n",
    "\n",
    "\n",
    "\n",
    "if __name__ == '__main__':\n",
    "    n = int(input().strip())\n",
    "if n%2==1:\n",
    "    print(\"Weird\");\n",
    "elif n in range(2,6):\n",
    "    print(\"Not Weird\");\n",
    "elif n in range(6,21):\n",
    "    print(\"Weird\");\n",
    "else:\n",
    "    print(\"Not Weird\");\n"
   ]
  },
  {
   "cell_type": "markdown",
   "id": "7e29a1fa",
   "metadata": {},
   "source": [
    "#### List Comprehensions"
   ]
  },
  {
   "cell_type": "code",
   "execution_count": null,
   "id": "3c4bf017",
   "metadata": {},
   "outputs": [],
   "source": [
    "if __name__ == '__main__':\n",
    "    x = int(input())\n",
    "    y = int(input())\n",
    "    z = int(input())\n",
    "    n = int(input())  \n",
    "    my_list = [[i,j,v] for i in range (x+1) for j in range (y+1) for v in range (z+1) if ((0 <= i <= x) and (0 <= j <= y) and (0 <= v <= z) and (i+j+v != n))];\n",
    "    print(my_list);\n"
   ]
  },
  {
   "cell_type": "markdown",
   "id": "0ebbce73",
   "metadata": {},
   "source": [
    "#### Find the Runner-Up Score!  "
   ]
  },
  {
   "cell_type": "code",
   "execution_count": null,
   "id": "620371cf",
   "metadata": {},
   "outputs": [],
   "source": [
    "if __name__ == '__main__':\n",
    "    n = int(input())\n",
    "    arr = map(int, input().split())\n",
    "    print(sorted(set(arr))[-2])\n"
   ]
  },
  {
   "cell_type": "markdown",
   "id": "065eecc7",
   "metadata": {},
   "source": [
    "#### Nested Lists"
   ]
  },
  {
   "cell_type": "code",
   "execution_count": null,
   "id": "6e35a4cd",
   "metadata": {},
   "outputs": [],
   "source": [
    "Results = []\n",
    "scorelist = []\n",
    "if __name__ == '__main__':\n",
    "    for _ in range(int(input())):\n",
    "        name = input()\n",
    "        score = float(input())\n",
    "        Results+=[[name,score]]\n",
    "        scorelist+=[score]\n",
    "    b=sorted(list(set(scorelist)))[1] \n",
    "    for a,c in sorted(Results):\n",
    "        if c==b:\n",
    "            print(a)\n",
    "        \n",
    "        \n"
   ]
  },
  {
   "cell_type": "markdown",
   "id": "290bd450",
   "metadata": {},
   "source": [
    "#### Nested Lists"
   ]
  },
  {
   "cell_type": "code",
   "execution_count": null,
   "id": "4325b83f",
   "metadata": {},
   "outputs": [],
   "source": [
    "Results = []\n",
    "scorelist = []\n",
    "if __name__ == '__main__':\n",
    "    for _ in range(int(input())):\n",
    "        name = input()\n",
    "        score = float(input())\n",
    "        Results+=[[name,score]]\n",
    "        scorelist+=[score]\n",
    "    b=sorted(list(set(scorelist)))[1] \n",
    "    for a,c in sorted(Results):\n",
    "        if c==b:\n",
    "            print(a)\n",
    "        \n",
    "        \n"
   ]
  },
  {
   "cell_type": "markdown",
   "id": "d45a23bc",
   "metadata": {},
   "source": [
    "#### Finding the percentage"
   ]
  },
  {
   "cell_type": "code",
   "execution_count": null,
   "id": "fd6a4057",
   "metadata": {},
   "outputs": [],
   "source": [
    "if __name__ == '__main__':\n",
    "    n = int(input())\n",
    "    student_marks = {}\n",
    "    for _ in range(n):\n",
    "        name, *line = input().split()\n",
    "        scores = list(map(float, line))\n",
    "        student_marks[name] = scores\n",
    "    query_name = input()\n",
    "    print(f\"{(sum(student_marks[query_name])/3):.2f}\")\n"
   ]
  },
  {
   "cell_type": "markdown",
   "id": "4833cbb7",
   "metadata": {},
   "source": [
    "#### Lists"
   ]
  },
  {
   "cell_type": "code",
   "execution_count": null,
   "id": "5188860e",
   "metadata": {},
   "outputs": [],
   "source": [
    "if __name__ == '__main__':\n",
    "    N = int(input())\n",
    "    list = []\n",
    "    for index in range(N):\n",
    "        n = input().split()\n",
    "        if \"insert\" == str(n[0]):\n",
    "            list.insert(int(n[1]),int(n[2]))\n",
    "        elif \"print\" == str(n[0]):    \n",
    "            print(list)\n",
    "        elif \"remove\" == str(n[0]):\n",
    "            list.remove(int(n[1]))\n",
    "        elif \"append\" == str(n[0]): \n",
    "            list.append(int(n[1]))\n",
    "        elif \"sort\" == str(n[0]):\n",
    "            list.sort()\n",
    "        elif \"pop\" == str(n[0]):\n",
    "            list.pop()\n",
    "        elif \"reverse\" == str(n[0]):\n",
    "            list.reverse()\n"
   ]
  },
  {
   "cell_type": "markdown",
   "id": "5342701e",
   "metadata": {},
   "source": [
    "#### Tuples "
   ]
  },
  {
   "cell_type": "code",
   "execution_count": null,
   "id": "bd19946e",
   "metadata": {},
   "outputs": [],
   "source": [
    "if __name__ == '__main__':\n",
    "    n = int(input())\n",
    "    integer_list = map(int, input().split())\n",
    "    t = tuple(integer_list)\n",
    "    print(hash(t))\n"
   ]
  },
  {
   "cell_type": "markdown",
   "id": "5cc633f8",
   "metadata": {},
   "source": [
    "#### sWAP cASE"
   ]
  },
  {
   "cell_type": "code",
   "execution_count": null,
   "id": "a57e0ae7",
   "metadata": {},
   "outputs": [],
   "source": [
    "def swap_case(s):\n",
    "    return s.swapcase()\n",
    "\n"
   ]
  },
  {
   "cell_type": "markdown",
   "id": "e9d38ff7",
   "metadata": {},
   "source": [
    "#### sWAP cASE"
   ]
  },
  {
   "cell_type": "code",
   "execution_count": null,
   "id": "2e5b0a42",
   "metadata": {},
   "outputs": [],
   "source": [
    "def swap_case(s):\n",
    "    return s.swapcase()\n",
    "\n"
   ]
  },
  {
   "cell_type": "markdown",
   "id": "41f99fb7",
   "metadata": {},
   "source": [
    "#### String Split and Join"
   ]
  },
  {
   "cell_type": "code",
   "execution_count": null,
   "id": "9785f54f",
   "metadata": {},
   "outputs": [],
   "source": [
    "\n",
    "\n",
    "def split_and_join(line):\n",
    "    line = line.split(\" \")\n",
    "    line = \"-\".join(line)\n",
    "    return line\n",
    "\n",
    "if __name__ == '__main__':\n",
    "    line = input()\n",
    "    result = split_and_join(line)\n",
    "    print(result)\n"
   ]
  },
  {
   "cell_type": "markdown",
   "id": "131119c6",
   "metadata": {},
   "source": [
    "#### What's Your Name?"
   ]
  },
  {
   "cell_type": "code",
   "execution_count": null,
   "id": "86da737b",
   "metadata": {},
   "outputs": [],
   "source": [
    "#\n",
    "# Complete the 'print_full_name' function below.\n",
    "#\n",
    "# The function is expected to return a STRING.\n",
    "# The function accepts following parameters:\n",
    "#  1. STRING first\n",
    "#  2. STRING last\n",
    "#\n",
    "\n",
    "def print_full_name(first, last):\n",
    "    print(\"Hello {} {}! You just delved into python.\".format(first,last))\n",
    "\n"
   ]
  },
  {
   "cell_type": "markdown",
   "id": "3f2e2be2",
   "metadata": {},
   "source": [
    "#### Mutations"
   ]
  },
  {
   "cell_type": "code",
   "execution_count": null,
   "id": "f5b9d7d7",
   "metadata": {},
   "outputs": [],
   "source": [
    "\n",
    "def mutate_string(string, position, character):\n",
    "    a = list(string)\n",
    "    a[position] = character\n",
    "    return(''.join(a))\n"
   ]
  },
  {
   "cell_type": "markdown",
   "id": "82900324",
   "metadata": {},
   "source": [
    "#### Find a string"
   ]
  },
  {
   "cell_type": "code",
   "execution_count": null,
   "id": "16cf3649",
   "metadata": {},
   "outputs": [],
   "source": [
    "def count_substring(string, sub_string):\n",
    "    count=0\n",
    "    for x in range(len(string)-len(sub_string)+1):\n",
    "        A=True\n",
    "        for j in range(len(sub_string)):\n",
    "            if sub_string[j]==string[x+j]:A=A and True\n",
    "            else:\n",
    "                A=False\n",
    "                break\n",
    "        if A==True:count+=1\n",
    "    return count\n",
    "\n"
   ]
  },
  {
   "cell_type": "markdown",
   "id": "67df0852",
   "metadata": {},
   "source": [
    "#### String Validators"
   ]
  },
  {
   "cell_type": "code",
   "execution_count": null,
   "id": "5e1f70a5",
   "metadata": {},
   "outputs": [],
   "source": [
    "if __name__ == '__main__':\n",
    "    s = input()\n",
    "    print(any(a.isalnum() for a in s) )\n",
    "    print(any(a.isalpha() for a in s) )\n",
    "    print(any(a.isdigit() for a in s) )\n",
    "    print(any(a.islower() for a in s) )\n",
    "    print(any(a.isupper() for a in s) )\n"
   ]
  },
  {
   "cell_type": "markdown",
   "id": "95a425e6",
   "metadata": {},
   "source": [
    "#### Text Alignment"
   ]
  },
  {
   "cell_type": "code",
   "execution_count": null,
   "id": "a1a83214",
   "metadata": {},
   "outputs": [],
   "source": [
    "# Enter your code here. Read input from STDIN. Print output to STDOUT\n",
    "text = int(input()) #This must be an odd number\n",
    "c = 'H'\n",
    "\n",
    "#Top Cone\n",
    "for i in range(text):\n",
    "    print((c*i).rjust(text-1)+c+(c*i).ljust(text-1))\n",
    "\n",
    "#Top Pillars\n",
    "for i in range(text+1):\n",
    "    print((c*text).center(text*2)+(c*text).center(text*6))\n",
    "\n",
    "#Middle Belt\n",
    "for i in range((text+1)//2):\n",
    "    print((c*text*5).center(text*6))    \n",
    "\n",
    "#Bottom Pillars\n",
    "for i in range(text+1):\n",
    "    print((c*text).center(text*2)+(c*text).center(text*6))    \n",
    "\n",
    "#Bottom Cone\n",
    "for i in range(text):\n",
    "    print(((c*(text-i-1)).rjust(text)+c+(c*(text-i-1)).ljust(text)).rjust(text*6))\n"
   ]
  },
  {
   "cell_type": "markdown",
   "id": "a1cf55df",
   "metadata": {},
   "source": [
    "#### Text Wrap"
   ]
  },
  {
   "cell_type": "code",
   "execution_count": null,
   "id": "04d1ccca",
   "metadata": {},
   "outputs": [],
   "source": [
    "\n",
    "\n",
    "def wrap(string, max_width):\n",
    "    return '\\n'.join(textwrap.wrap(string, max_width)) \n",
    "\n",
    "\n"
   ]
  },
  {
   "cell_type": "markdown",
   "id": "21944738",
   "metadata": {},
   "source": [
    "#### Designer Door Mat"
   ]
  },
  {
   "cell_type": "code",
   "execution_count": null,
   "id": "6c1a44b9",
   "metadata": {},
   "outputs": [],
   "source": [
    "# Enter your code here. Read input from STDIN. Print output to STDOUT\n",
    "N, M = map(int, input().split())\n",
    "for n in range(N//2):\n",
    "    print(('.|.'* (2*n + 1)).center(M, '-'))\n",
    "print('WELCOME'.center(M, '-'))\n",
    "for n in reversed(range(N//2)):\n",
    "    print(('.|.'* (2*n + 1)).center(M, '-'))\n"
   ]
  },
  {
   "cell_type": "markdown",
   "id": "e0327330",
   "metadata": {},
   "source": [
    "#### String Formatting"
   ]
  },
  {
   "cell_type": "code",
   "execution_count": null,
   "id": "88613ce8",
   "metadata": {},
   "outputs": [],
   "source": [
    "def print_formatted(n):\n",
    "     length = len(bin(n)[2:])\n",
    "     for i in range (1, (n+1)):\n",
    "                oc = str(oct(i))[2:]\n",
    "                he = str(hex(i))[2:].upper()\n",
    "                bi = str (bin(i))[2:]\n",
    "                print( str(i).rjust(length), oc.rjust(length), he.rjust(length), bi.rjust(length))\n",
    "\n"
   ]
  },
  {
   "cell_type": "markdown",
   "id": "9f831ab2",
   "metadata": {},
   "source": [
    "#### Alphabet Rangoli"
   ]
  },
  {
   "cell_type": "code",
   "execution_count": null,
   "id": "987ddfac",
   "metadata": {},
   "outputs": [],
   "source": [
    "def print_rangoli(size):\n",
    "    alphabet = ' abcdefghijklmnopqrstuvwxyz'\n",
    "    for i in range(size,0,-1):\n",
    "        c = alphabet[size:i:-1] + alphabet[i:size+1]\n",
    "        c = '-'.join(c)\n",
    "        print(c.center((size*4)-3,'-'))\n",
    "    for i in range(0,size-1):\n",
    "        c = alphabet[size:i+2:-1] + alphabet[i+2:size+1]\n",
    "        c ='-'.join(c)\n",
    "        print(c.center((size*4)-3,'-'))\n",
    "\n",
    "\n"
   ]
  },
  {
   "cell_type": "markdown",
   "id": "c6143020",
   "metadata": {},
   "source": [
    "#### Capitalize!"
   ]
  },
  {
   "cell_type": "code",
   "execution_count": null,
   "id": "28e014cb",
   "metadata": {},
   "outputs": [],
   "source": [
    "\n",
    "\n",
    "# Complete the solve function below.\n",
    "def solve(s):\n",
    "    return ' '.join([i.capitalize() for i in s.split(' ')])\n"
   ]
  },
  {
   "cell_type": "markdown",
   "id": "23672502",
   "metadata": {},
   "source": [
    "#### The Minion Game"
   ]
  },
  {
   "cell_type": "code",
   "execution_count": null,
   "id": "d6bd1eab",
   "metadata": {},
   "outputs": [],
   "source": [
    "def minion_game(string):\n",
    "    kevin = 0\n",
    "    l = len(string)\n",
    "    for i in range(l):\n",
    "        if string[i] in 'AEIOU':\n",
    "            kevin += l - i\n",
    "    \n",
    "    stuart = int(l * (l+1) / 2) - kevin\n",
    "    \n",
    "    if stuart > kevin: \n",
    "        print('Stuart', stuart)\n",
    "        return\n",
    "    \n",
    "    if kevin > stuart:\n",
    "        print('Kevin', kevin)\n",
    "        return\n",
    "    \n",
    "    print('Draw')\n"
   ]
  },
  {
   "cell_type": "markdown",
   "id": "f723eff0",
   "metadata": {},
   "source": [
    "#### The Minion Game"
   ]
  },
  {
   "cell_type": "code",
   "execution_count": null,
   "id": "23974082",
   "metadata": {},
   "outputs": [],
   "source": [
    "def minion_game(string):\n",
    "    kevin = 0\n",
    "    l = len(string)\n",
    "    for i in range(l):\n",
    "        if string[i] in 'AEIOU':\n",
    "            kevin += l - i\n",
    "    \n",
    "    stuart = int(l * (l+1) / 2) - kevin\n",
    "    \n",
    "    if stuart > kevin: \n",
    "        print('Stuart', stuart)\n",
    "        return\n",
    "    \n",
    "    if kevin > stuart:\n",
    "        print('Kevin', kevin)\n",
    "        return\n",
    "    \n",
    "    print('Draw')\n"
   ]
  },
  {
   "cell_type": "markdown",
   "id": "f973d42a",
   "metadata": {},
   "source": [
    "#### Merge the Tools!"
   ]
  },
  {
   "cell_type": "code",
   "execution_count": null,
   "id": "951926ad",
   "metadata": {},
   "outputs": [],
   "source": [
    "def merge_the_tools(string, k):\n",
    "    for i in range(0, len(string), k):\n",
    "        result=\"\"\n",
    "        for j in range(k):\n",
    "            if string[i+j] not in result:\n",
    "                result+=string[i+j]\n",
    "        print(result)\n"
   ]
  },
  {
   "cell_type": "markdown",
   "id": "7c4120cc",
   "metadata": {},
   "source": [
    "#### Introduction to Sets"
   ]
  },
  {
   "cell_type": "code",
   "execution_count": null,
   "id": "4222bafb",
   "metadata": {},
   "outputs": [],
   "source": [
    "def average(array):\n",
    "    # your code goes here\n",
    "    result = sum(set(array))/len(set(array))\n",
    "    x = '{0: .3f}'\n",
    "    result = x.format(result)\n",
    "    return result\n"
   ]
  },
  {
   "cell_type": "markdown",
   "id": "5a831960",
   "metadata": {},
   "source": [
    "#### Symmetric Difference"
   ]
  },
  {
   "cell_type": "code",
   "execution_count": null,
   "id": "63602800",
   "metadata": {},
   "outputs": [],
   "source": [
    "# Enter your code here. Read input from STDIN. Print output to STDOUT\n",
    "M, a=int(input()),set(map(int,input().rsplit()))\n",
    "N,b=int(input()),set(map(int,input().rsplit()))\n",
    "[print(i) for i in sorted(list(a.difference(b).union(b.difference(a))))]\n"
   ]
  },
  {
   "cell_type": "markdown",
   "id": "20cba786",
   "metadata": {},
   "source": [
    "#### No Idea!"
   ]
  },
  {
   "cell_type": "code",
   "execution_count": null,
   "id": "9bd00d57",
   "metadata": {},
   "outputs": [],
   "source": [
    "# Enter your code here. Read input from STDIN. Print output to STDOUT\n",
    "n,m  = map(int,input().split())\n",
    "z = list(map(int,input().split()))\n",
    "A = set(map(int,input().split()))\n",
    "B = set(map(int,input().split()))\n",
    "h = 0\n",
    "\n",
    "for x in z:\n",
    "    if x in A and x not in B:\n",
    "        h += 1\n",
    "    elif x in B and x not in A:\n",
    "        h -= 1\n",
    "    else:\n",
    "        pass\n",
    "print(h)\n"
   ]
  },
  {
   "cell_type": "markdown",
   "id": "67fa4c40",
   "metadata": {},
   "source": [
    "#### Set .add() "
   ]
  },
  {
   "cell_type": "code",
   "execution_count": null,
   "id": "a72f5ae6",
   "metadata": {},
   "outputs": [],
   "source": [
    "# Enter your code here. Read input from STDIN. Print output to STDOUT\n",
    "s = set({})\n",
    "Countries=int(input())\n",
    "for x in range(Countries):\n",
    "    y=input()\n",
    "    s.add(y)\n",
    "print(len(s))\n"
   ]
  },
  {
   "cell_type": "markdown",
   "id": "0f131ec5",
   "metadata": {},
   "source": [
    "#### Set .add() "
   ]
  },
  {
   "cell_type": "code",
   "execution_count": null,
   "id": "732ea191",
   "metadata": {},
   "outputs": [],
   "source": [
    "# Enter your code here. Read input from STDIN. Print output to STDOUT\n",
    "s = set({})\n",
    "CountCountries=int(input())\n",
    "for x in range(CountCountries):\n",
    "    y=input()\n",
    "    s.add(y)\n",
    "print(len(s))\n"
   ]
  },
  {
   "cell_type": "markdown",
   "id": "0d804e17",
   "metadata": {},
   "source": [
    "#### Set .union() Operation"
   ]
  },
  {
   "cell_type": "code",
   "execution_count": null,
   "id": "ae690525",
   "metadata": {},
   "outputs": [],
   "source": [
    "# Enter your code here. Read input from STDIN. Print output to STDOUT\n",
    "n = int(input())\n",
    "A = set(map(int, input().split()))\n",
    "m = int(input())\n",
    "B = set(map(int, input().split()))\n",
    "Diff = A.union(B)\n",
    "print(len(Diff))\n"
   ]
  },
  {
   "cell_type": "markdown",
   "id": "7a70764f",
   "metadata": {},
   "source": [
    "#### Set .intersection() Operation"
   ]
  },
  {
   "cell_type": "code",
   "execution_count": null,
   "id": "b5de93b8",
   "metadata": {},
   "outputs": [],
   "source": [
    "# Enter your code here. Read input from STDIN. Print output to STDOUT\n",
    "n = int(input())\n",
    "A = set(map(int, input().split()))\n",
    "m = int(input())\n",
    "B = set(map(int, input().split()))\n",
    "Same = A.intersection(B)\n",
    "print(len(Same))\n"
   ]
  },
  {
   "cell_type": "markdown",
   "id": "8843693a",
   "metadata": {},
   "source": [
    "#### Set .difference() Operation"
   ]
  },
  {
   "cell_type": "code",
   "execution_count": null,
   "id": "4983243b",
   "metadata": {},
   "outputs": [],
   "source": [
    "# Enter your code here. Read input from STDIN. Print output to STDOUT\n",
    "n = int(input())\n",
    "A = set(map(int, input().split()))\n",
    "m = int(input())\n",
    "B = set(map(int, input().split()))\n",
    "Diff = A.difference(B)\n",
    "print(len(Diff))\n"
   ]
  },
  {
   "cell_type": "markdown",
   "id": "bc0ea96a",
   "metadata": {},
   "source": [
    "#### Set .symmetric_difference() Operation"
   ]
  },
  {
   "cell_type": "code",
   "execution_count": null,
   "id": "d079204e",
   "metadata": {},
   "outputs": [],
   "source": [
    "# Enter your code here. Read input from STDIN. Print output to STDOUT\n",
    "n = int(input())\n",
    "A = set(map(int, input().split()))\n",
    "m = int(input())\n",
    "B = set(map(int, input().split()))\n",
    "symDiff = A.symmetric_difference(B)\n",
    "print(len(symDiff))\n"
   ]
  },
  {
   "cell_type": "markdown",
   "id": "efa4adaf",
   "metadata": {},
   "source": [
    "#### Set Mutations"
   ]
  },
  {
   "cell_type": "code",
   "execution_count": null,
   "id": "2ad5d60a",
   "metadata": {},
   "outputs": [],
   "source": [
    "# Enter your code here. Read input from STDIN. Print output to STDOUT\n",
    "n = int(input())\n",
    "A = set(map(int, input().split()))\n",
    "for i in range(int(input())):\n",
    "    cmd = input().strip().split()\n",
    "    op= set(map(int, input().split())) \n",
    "    eval(\"A.\" + cmd[0] + \"(  op  )\")\n",
    "print(sum(A))\n"
   ]
  },
  {
   "cell_type": "markdown",
   "id": "8104fdb1",
   "metadata": {},
   "source": [
    "#### Set Mutations"
   ]
  },
  {
   "cell_type": "code",
   "execution_count": null,
   "id": "dfddc2d2",
   "metadata": {},
   "outputs": [],
   "source": [
    "# Enter your code here. Read input from STDIN. Print output to STDOUT\n",
    "n = int(input())\n",
    "A = set(map(int, input().split()))\n",
    "for i in range(int(input())):\n",
    "    cmd = input().strip().split()\n",
    "    op= set(map(int, input().split())) \n",
    "    eval(\"A.\" + cmd[0] + \"(op)\")\n",
    "print(sum(A))\n"
   ]
  },
  {
   "cell_type": "markdown",
   "id": "e7eaa905",
   "metadata": {},
   "source": [
    "#### Check Subset"
   ]
  },
  {
   "cell_type": "code",
   "execution_count": null,
   "id": "1cdc8fa4",
   "metadata": {},
   "outputs": [],
   "source": [
    "# Enter your code here. Read input from STDIN. Print output to STDOUT\n",
    "x=int(input())\n",
    "for i in range(x):\n",
    "    el_A=int(input())\n",
    "    A= set(map(int,input().split()))\n",
    "    el_B=int(input())\n",
    "    B= set(map(int,input().split()))\n",
    "    inter=A.intersection(B)\n",
    "    if inter==A :\n",
    "        print(True)\n",
    "    else:\n",
    "        print(False)\n"
   ]
  },
  {
   "cell_type": "markdown",
   "id": "d585143e",
   "metadata": {},
   "source": [
    "#### Check Strict Superset"
   ]
  },
  {
   "cell_type": "code",
   "execution_count": null,
   "id": "a53283da",
   "metadata": {},
   "outputs": [],
   "source": [
    "# Enter your code here. Read input from STDIN. Print output to STDOUT\n",
    "set_A = set(map(int, input().split()))\n",
    "N = int(input())\n",
    "list_sets = []\n",
    "for i in range (N):\n",
    "    list_sets.append(set(map(int,input().split())))\n",
    "        \n",
    "print(all(set_A.issuperset(s) for s in list_sets))\n"
   ]
  },
  {
   "cell_type": "markdown",
   "id": "e9f064a2",
   "metadata": {},
   "source": [
    "#### collections.Counter()"
   ]
  },
  {
   "cell_type": "code",
   "execution_count": null,
   "id": "83f05e5c",
   "metadata": {},
   "outputs": [],
   "source": [
    "# Enter your code here. Read input from STDIN. Print output to STDOUT\n",
    "n = int(input())\n",
    "l = list(map(int,input().split()))\n",
    "\n",
    "m = int(input())\n",
    "s = 0\n",
    "for i in range(m):\n",
    "    a, b = tuple(map(int,input().split()))\n",
    "    if a in l:\n",
    "        s += b\n",
    "        l.remove(a)\n",
    "print(s)\n"
   ]
  },
  {
   "cell_type": "markdown",
   "id": "ae4764d8",
   "metadata": {},
   "source": [
    "#### DefaultDict Tutorial"
   ]
  },
  {
   "cell_type": "code",
   "execution_count": null,
   "id": "84aab7f5",
   "metadata": {},
   "outputs": [],
   "source": [
    "# Enter your code here. Read input from STDIN. Print output to STDOUT\n",
    "m, n = map(int, input().split())\n",
    "a_list, b_list = [], []\n",
    "[a_list.append(input()) if i < m else b_list.append(input()) for i in range(m+n)]\n",
    "result = []\n",
    "for ch in b_list:\n",
    "    num_list = ''\n",
    "    for i in range(1, len(a_list)+1):\n",
    "        if ch not in a_list:\n",
    "            num_list += '-1'\n",
    "            break\n",
    "        if ch == a_list[i-1]:\n",
    "            num_list += f'{i} '\n",
    "    result.append(num_list)\n",
    "for ele in result:\n",
    "    print(ele)\n"
   ]
  },
  {
   "cell_type": "markdown",
   "id": "6ec7de4a",
   "metadata": {},
   "source": [
    "#### Collections.namedtuple()"
   ]
  },
  {
   "cell_type": "code",
   "execution_count": null,
   "id": "01ed6a6a",
   "metadata": {},
   "outputs": [],
   "source": [
    "# Enter your code here. Read input from STDIN. Print output to STDOUT\n",
    "n, nt = int(input()), tuple(map(str,input().split()))\n",
    "marks = [int(input().split()[nt.index('MARKS')]) for _ in range(n)]\n",
    "print(sum(marks)/len(marks))\n"
   ]
  },
  {
   "cell_type": "markdown",
   "id": "6d2d11aa",
   "metadata": {},
   "source": [
    "#### Word Order"
   ]
  },
  {
   "cell_type": "code",
   "execution_count": null,
   "id": "166e1fa5",
   "metadata": {},
   "outputs": [],
   "source": [
    "# Enter your code here. Read input from STDIN. Print output to STDOUT\n",
    "words = {}\n",
    "n = int(input())\n",
    "for i in range(n):\n",
    "    word = input()\n",
    "    words[word] = words.get(word, 0) +1\n",
    "print(len(words))\n",
    "for i in words.values():\n",
    "    print(i,end= ' ')\n"
   ]
  },
  {
   "cell_type": "markdown",
   "id": "2c3ada3d",
   "metadata": {},
   "source": [
    "#### Collections.deque()"
   ]
  },
  {
   "cell_type": "code",
   "execution_count": null,
   "id": "e7683b09",
   "metadata": {},
   "outputs": [],
   "source": [
    "# Enter your code here. Read input from STDIN. Print output to STDOUT\n",
    "from collections import deque\n",
    "d = deque()\n",
    "n = int(input())\n",
    "list = []\n",
    "\n",
    "for i in range(n):\n",
    "    list = [i for i in input().split()]\n",
    "    \n",
    "    if 'append' in list:\n",
    "        d.append(int(list[1]))\n",
    "    \n",
    "    elif 'appendleft' in list:\n",
    "        d.appendleft(int(list[1]))\n",
    "        \n",
    "    elif 'pop' in list:\n",
    "        d.pop()\n",
    "        \n",
    "    elif 'popleft' in list:\n",
    "        d.popleft()\n",
    "\n",
    "for el in d:\n",
    "    print(el, end=' ')\n"
   ]
  },
  {
   "cell_type": "markdown",
   "id": "14b98718",
   "metadata": {},
   "source": [
    "#### Company Logo"
   ]
  },
  {
   "cell_type": "code",
   "execution_count": null,
   "id": "5c694026",
   "metadata": {},
   "outputs": [],
   "source": [
    "#!/bin/python3\n",
    "\n",
    "import math\n",
    "import os\n",
    "import random\n",
    "import re\n",
    "import sys\n",
    "\n",
    "\n",
    "from collections import Counter\n",
    "\n",
    "if __name__ == '__main__':\n",
    "    s = sorted(input())\n",
    "    count_dict = Counter(s)\n",
    "    for k, v in count_dict.most_common(3):\n",
    "        print(k,v)\n"
   ]
  },
  {
   "cell_type": "markdown",
   "id": "c46dcd08",
   "metadata": {},
   "source": [
    "#### Collections.OrderedDict()"
   ]
  },
  {
   "cell_type": "code",
   "execution_count": null,
   "id": "c87b44d8",
   "metadata": {},
   "outputs": [],
   "source": [
    "# Enter your code here. Read input from STDIN. Print output to STDOUT\n",
    "from collections import OrderedDict\n",
    "od = OrderedDict()\n",
    "for i in range(int(input())):\n",
    "    n = input().split()\n",
    "    name = ' '.join([n[i] for i in range(len(n) - 1)])\n",
    "    price = int(n[-1])\n",
    "    if name in od:\n",
    "        od[name] += price\n",
    "    else:\n",
    "        od[name] = price\n",
    "for item in od:\n",
    "    print(f\"{item} {od[item]}\")\n"
   ]
  },
  {
   "cell_type": "markdown",
   "id": "c558d61e",
   "metadata": {},
   "source": [
    "#### Piling Up!"
   ]
  },
  {
   "cell_type": "code",
   "execution_count": null,
   "id": "1bc67c99",
   "metadata": {},
   "outputs": [],
   "source": [
    "# Enter your code here. Read input from STDIN. Print output to STDOUT\n",
    "from collections import deque\n",
    "\n",
    "for i in range(int(input())):\n",
    "    i = input()\n",
    "    blocks = deque([int(a) for a in input().split()])    \n",
    "    for b in sorted(blocks, reverse=True):\n",
    "        if b == blocks[0]: blocks.popleft()            \n",
    "        elif b == blocks[-1]: blocks.pop()\n",
    "        else: print('No'); break\n",
    "    else:\n",
    "        print('Yes')\n"
   ]
  },
  {
   "cell_type": "markdown",
   "id": "2e28bd2f",
   "metadata": {},
   "source": [
    "#### Calendar Module"
   ]
  },
  {
   "cell_type": "code",
   "execution_count": null,
   "id": "811b1507",
   "metadata": {},
   "outputs": [],
   "source": [
    "# Enter your code here. Read input from STDIN. Print output to STDOUT\n",
    "import calendar as cal\n",
    "month, day, year = map(int,input().split())\n",
    "print(cal.day_name[cal.weekday(year,month,day)].upper())\n"
   ]
  },
  {
   "cell_type": "markdown",
   "id": "24849872",
   "metadata": {},
   "source": [
    "#### Time Delta"
   ]
  },
  {
   "cell_type": "code",
   "execution_count": null,
   "id": "684ecc12",
   "metadata": {},
   "outputs": [],
   "source": [
    "#!/bin/python3\n",
    "\n",
    "import math\n",
    "import os\n",
    "import random\n",
    "import re\n",
    "import sys\n",
    "import datetime\n",
    "import dateutil.parser\n",
    "\n",
    "# Complete the time_delta function below.\n",
    "def time_delta(t1, t2):\n",
    "    t1 = dateutil.parser.parse(t1,fuzzy=True)\n",
    "    t2 = dateutil.parser.parse(t2,fuzzy=True)\n",
    "    return str(int(abs(t1-t2).total_seconds()))\n",
    "if __name__ == '__main__':\n",
    "    fptr = open(os.environ['OUTPUT_PATH'], 'w')\n",
    "\n",
    "    t = int(input())\n",
    "\n",
    "    for t_itr in range(t):\n",
    "        t1 = input()\n",
    "\n",
    "        t2 = input()\n",
    "\n",
    "        delta = time_delta(t1, t2)\n",
    "\n",
    "        fptr.write(delta + '\\n')\n",
    "\n",
    "    fptr.close()\n"
   ]
  },
  {
   "cell_type": "markdown",
   "id": "12241191",
   "metadata": {},
   "source": [
    "#### Exceptions"
   ]
  },
  {
   "cell_type": "code",
   "execution_count": null,
   "id": "92c38366",
   "metadata": {},
   "outputs": [],
   "source": [
    "# Enter your code here. Read input from STDIN. Print output to STDOUT\n",
    "for i in range(int(input())):\n",
    "    try:\n",
    "        a, b = map(int, input().split())\n",
    "        print(a//b)\n",
    "\n",
    "    except (ValueError, ZeroDivisionError) as error:\n",
    "        print(\"Error Code:\", error)\n"
   ]
  },
  {
   "cell_type": "markdown",
   "id": "4c86e240",
   "metadata": {},
   "source": [
    "#### Zipped!"
   ]
  },
  {
   "cell_type": "code",
   "execution_count": null,
   "id": "2e6d9fe6",
   "metadata": {},
   "outputs": [],
   "source": [
    "# Enter your code here. Read input from STDIN. Print output to STDOUT\n",
    "studs, subj = map(int,input().split())\n",
    "score_list = []\n",
    "for i in range(int(subj)):\n",
    "    scores = list(map(float, input().split()))\n",
    "    score_list.append(scores)\n",
    "\n",
    "for i in zip(*score_list):\n",
    "    print(sum(i)/subj)\n"
   ]
  },
  {
   "cell_type": "markdown",
   "id": "84e40e8c",
   "metadata": {},
   "source": [
    "#### Athlete Sort"
   ]
  },
  {
   "cell_type": "code",
   "execution_count": null,
   "id": "c3b387c5",
   "metadata": {},
   "outputs": [],
   "source": [
    "#!/bin/python3\n",
    "\n",
    "import math\n",
    "import os\n",
    "import random\n",
    "import re\n",
    "import sys\n",
    "\n",
    "\n",
    "\n",
    "if __name__ == '__main__':\n",
    "    first_multiple_input = input().rstrip().split()\n",
    "\n",
    "    n = int(first_multiple_input[0])\n",
    "\n",
    "    m = int(first_multiple_input[1])\n",
    "\n",
    "    arr = []\n",
    "\n",
    "    for _ in range(n):\n",
    "        arr.append(list(map(int, input().rstrip().split())))\n",
    "\n",
    "    k = int(input().strip())\n",
    "sort_arr = sorted(arr, key=lambda x: x[k])\n",
    "for i in sort_arr:\n",
    "    for j in i:\n",
    "        print(j, end=' ')\n",
    "    print() \n"
   ]
  },
  {
   "cell_type": "markdown",
   "id": "d9f12c09",
   "metadata": {},
   "source": [
    "#### ginortS"
   ]
  },
  {
   "cell_type": "code",
   "execution_count": null,
   "id": "cf029fd4",
   "metadata": {},
   "outputs": [],
   "source": [
    "# Enter your code here. Read input from STDIN. Print output to STDOUT\n",
    "S=list(input())\n",
    "\n",
    "number=[]\n",
    "lower=[]\n",
    "upper=[]\n",
    "for i in S:\n",
    "    if i.isdigit():\n",
    "        number.append(i)\n",
    "    else:\n",
    "        if i.isupper():\n",
    "            upper.append(i)\n",
    "        else:\n",
    "            lower.append(i)\n",
    "\n",
    "a=sorted(list(map(int,number)))\n",
    "b=list(map(str,sorted(a,key=lambda x:x%2==0)))\n",
    "\n",
    "print(''.join(sorted(lower))+''.join(sorted(upper))+''.join(b))\n"
   ]
  },
  {
   "cell_type": "markdown",
   "id": "baf4ea3e",
   "metadata": {},
   "source": [
    "#### Map and Lambda Function"
   ]
  },
  {
   "cell_type": "code",
   "execution_count": null,
   "id": "6150241e",
   "metadata": {},
   "outputs": [],
   "source": [
    "cube = lambda x: x**3\n",
    "def fibonacci(n):\n",
    "    if n < 2:\n",
    "        return [x for x in range(n)]\n",
    "    else:\n",
    "        lst = [0, 1]\n",
    "        for i in range(2,n):\n",
    "            lst.append(lst[i-1] + lst[i-2])\n",
    "        return lst\n"
   ]
  },
  {
   "cell_type": "markdown",
   "id": "4ed1237a",
   "metadata": {},
   "source": [
    "#### Detect Floating Point Number"
   ]
  },
  {
   "cell_type": "code",
   "execution_count": null,
   "id": "e9bfde32",
   "metadata": {},
   "outputs": [],
   "source": [
    "# Enter your code here. Read input from STDIN. Print output to STDOUT\n",
    "import re\n",
    "n = int(input())\n",
    "for i in range(n):\n",
    "    if re.match('^[+-]{0,1}[\\d]{0,}\\.\\d+$', input()):\n",
    "        print(True)\n",
    "    else:\n",
    "        print(False)\n"
   ]
  },
  {
   "cell_type": "markdown",
   "id": "6696ff8f",
   "metadata": {},
   "source": [
    "#### Re.split()"
   ]
  },
  {
   "cell_type": "code",
   "execution_count": null,
   "id": "aef6d4cb",
   "metadata": {},
   "outputs": [],
   "source": [
    "regex_pattern = r\"[,.]\"\t# Do not delete 'r'.\n",
    "\n"
   ]
  },
  {
   "cell_type": "markdown",
   "id": "6fdc00de",
   "metadata": {},
   "source": [
    "#### Group(), Groups() & Groupdict()"
   ]
  },
  {
   "cell_type": "code",
   "execution_count": null,
   "id": "4e5aa5fa",
   "metadata": {},
   "outputs": [],
   "source": [
    "# Enter your code here. Read input from STDIN. Print output to STDOUT\n",
    "import re\n",
    "match = re.search(r\"([a-zA-Z0-9])\\1+\", input())\n",
    "print(match.group()[0] if match else -1)\n"
   ]
  },
  {
   "cell_type": "markdown",
   "id": "79f158dc",
   "metadata": {},
   "source": [
    "#### XML 1 - Find the Score"
   ]
  },
  {
   "cell_type": "code",
   "execution_count": null,
   "id": "7e4e3c27",
   "metadata": {},
   "outputs": [],
   "source": [
    "\n",
    "\n",
    "def get_attr_number(node):\n",
    "    return sum([len(i.keys()) for i in  node.iter() ])\n"
   ]
  },
  {
   "cell_type": "markdown",
   "id": "28e8a2c5",
   "metadata": {},
   "source": [
    "#### XML2 - Find the Maximum Depth"
   ]
  },
  {
   "cell_type": "code",
   "execution_count": null,
   "id": "0af22213",
   "metadata": {},
   "outputs": [],
   "source": [
    "\n",
    "\n",
    "maxdepth = 0\n",
    "def depth(elem, level):\n",
    "    global maxdepth\n",
    "    if (level == maxdepth):\n",
    "        maxdepth += 1\n",
    "    for child in elem:\n",
    "        depth(child, level + 1) \n",
    "\n"
   ]
  },
  {
   "cell_type": "markdown",
   "id": "8832adf9",
   "metadata": {},
   "source": [
    "#### Standardize Mobile Number Using Decorators"
   ]
  },
  {
   "cell_type": "code",
   "execution_count": null,
   "id": "0bbcfe30",
   "metadata": {},
   "outputs": [],
   "source": [
    "def wrapper(f):\n",
    "    def fun(l):\n",
    "        list = []\n",
    "        for item in l:\n",
    "            list.append('+91 '+item[-10:-5]+' '+ item[-5:])\n",
    "        return f(list)\n",
    "    return fun\n",
    "\n"
   ]
  },
  {
   "cell_type": "markdown",
   "id": "abffb317",
   "metadata": {},
   "source": [
    "#### Decorators 2 - Name Directory"
   ]
  },
  {
   "cell_type": "code",
   "execution_count": null,
   "id": "8ca99c41",
   "metadata": {},
   "outputs": [],
   "source": [
    "\n",
    "\n",
    "def person_lister(f):\n",
    "    def inner(people):\n",
    "        for person in people:\n",
    "            person[2] = int(person[2])\n",
    "        return map(f, sorted(people, key=operator.itemgetter(2)))\n",
    "    return inner\n",
    "\n"
   ]
  },
  {
   "cell_type": "markdown",
   "id": "f9c0a09a",
   "metadata": {},
   "source": [
    "#### Arrays"
   ]
  },
  {
   "cell_type": "code",
   "execution_count": null,
   "id": "bad55800",
   "metadata": {},
   "outputs": [],
   "source": [
    "\n",
    "\n",
    "def arrays(arr):\n",
    "    ar1 = []\n",
    "    for i in arr:\n",
    "        ar1.append(float(i))\n",
    "    return numpy.array(ar1[::-1])\n"
   ]
  },
  {
   "cell_type": "markdown",
   "id": "4a8d1fd6",
   "metadata": {},
   "source": [
    "#### Shape and Reshape"
   ]
  },
  {
   "cell_type": "code",
   "execution_count": null,
   "id": "23f415ee",
   "metadata": {},
   "outputs": [],
   "source": [
    "# Enter your code here. Read input from STDIN. Print output to STDOUT\n",
    "import numpy\n",
    "arr = input().split()\n",
    "a = numpy.array(arr,int)\n",
    "print(numpy.reshape(a,(3,3)))\n"
   ]
  },
  {
   "cell_type": "markdown",
   "id": "314ae1fd",
   "metadata": {},
   "source": [
    "#### Transpose and Flatten"
   ]
  },
  {
   "cell_type": "code",
   "execution_count": null,
   "id": "14aef455",
   "metadata": {},
   "outputs": [],
   "source": [
    "# Enter your code here. Read input from STDIN. Print output to STDOUT\n",
    "import numpy as np\n",
    "n,m = list(map(int, input().split()))\n",
    "lists = []\n",
    "for i in range(n):\n",
    "    lists.append(input().split())\n",
    "lists2 = np.array(lists, int)\n",
    "lists = np.array(lists, int)\n",
    "lists2 = lists2.transpose()\n",
    "print(lists2)\n",
    "lists = lists.flatten()\n",
    "print(lists)\n"
   ]
  },
  {
   "cell_type": "markdown",
   "id": "9e114100",
   "metadata": {},
   "source": [
    "#### Concatenate"
   ]
  },
  {
   "cell_type": "code",
   "execution_count": null,
   "id": "1862498a",
   "metadata": {},
   "outputs": [],
   "source": [
    "# Enter your code here. Read input from STDIN. Print output to STDOUT\n",
    "import numpy as np\n",
    "\n",
    "n, m, p = map(int, input().split())\n",
    "nexp=[]\n",
    "mexp=[]\n",
    "\n",
    "for _ in range(n):\n",
    "    nexp.append(np.array(list(map(int, input().split()))))\n",
    "\n",
    "for _ in range(m):\n",
    "    mexp.append(np.array(list(map(int, input().split()))))\n",
    "\n",
    "print(np.concatenate((nexp, mexp), axis=0))\n"
   ]
  },
  {
   "cell_type": "markdown",
   "id": "a08e34b0",
   "metadata": {},
   "source": [
    "#### Concatenate"
   ]
  },
  {
   "cell_type": "code",
   "execution_count": null,
   "id": "ea1c7d72",
   "metadata": {},
   "outputs": [],
   "source": [
    "# Enter your code here. Read input from STDIN. Print output to STDOUT\n",
    "import numpy as np\n",
    "\n",
    "n, m, p = map(int, input().split())\n",
    "nexp=[]\n",
    "mexp=[]\n",
    "\n",
    "for _ in range(n):\n",
    "    nexp.append(np.array(list(map(int, input().split()))))\n",
    "\n",
    "for _ in range(m):\n",
    "    mexp.append(np.array(list(map(int, input().split()))))\n",
    "\n",
    "print(np.concatenate((nexp, mexp), axis=0))\n"
   ]
  },
  {
   "cell_type": "markdown",
   "id": "13317357",
   "metadata": {},
   "source": [
    "#### Zeros and Ones"
   ]
  },
  {
   "cell_type": "code",
   "execution_count": null,
   "id": "8bff17a8",
   "metadata": {},
   "outputs": [],
   "source": [
    "# Enter your code here. Read input from STDIN. Print output to STDOUT\n",
    "import numpy\n",
    "shapes = list(map(int, input().split()))\n",
    "print(numpy.zeros((shapes), dtype = numpy.int))\n",
    "print(numpy.ones((shapes), dtype = numpy.int))\n"
   ]
  },
  {
   "cell_type": "markdown",
   "id": "ff749cb9",
   "metadata": {},
   "source": [
    "#### Eye and Identity"
   ]
  },
  {
   "cell_type": "code",
   "execution_count": null,
   "id": "e2021b93",
   "metadata": {},
   "outputs": [],
   "source": [
    "# Enter your code here. Read input from STDIN. Print output to STDOUT\n",
    "import numpy \n",
    "numpy.set_printoptions(sign=' ')\n",
    "print(numpy.eye(*map(int, input().split())))\n"
   ]
  },
  {
   "cell_type": "markdown",
   "id": "ec4dd77e",
   "metadata": {},
   "source": [
    "#### Polynomials"
   ]
  },
  {
   "cell_type": "code",
   "execution_count": null,
   "id": "479ba72d",
   "metadata": {},
   "outputs": [],
   "source": [
    "# Enter your code here. Read input from STDIN. Print output to STDOUT\n",
    "import numpy as np\n",
    "M = list(map(float, input().split()))\n",
    "x = float(input())\n",
    "print(float(np.polyval(M, x)))\n"
   ]
  },
  {
   "cell_type": "markdown",
   "id": "1093ae14",
   "metadata": {},
   "source": [
    "#### Array Mathematics"
   ]
  },
  {
   "cell_type": "code",
   "execution_count": null,
   "id": "c7180017",
   "metadata": {},
   "outputs": [],
   "source": [
    "# Enter your code here. Read input from STDIN. Print output to STDOUT\n",
    "import numpy as np\n",
    "m, n = map(int, input().split())\n",
    "a = np.array([list(map(int, input().split())) for i in range(m)], np.int64)\n",
    "b = np.array([list(map(int, input().split())) for i in range(m)], np.int64)\n",
    "print(f\"{a+b}\\n{a-b}\\n{a*b}\\n{a//b}\\n{a%b}\\n{a**b}\")\n"
   ]
  },
  {
   "cell_type": "markdown",
   "id": "38d6107f",
   "metadata": {},
   "source": [
    "#### Linear Algebra"
   ]
  },
  {
   "cell_type": "code",
   "execution_count": null,
   "id": "7383b1d0",
   "metadata": {},
   "outputs": [],
   "source": [
    "# Enter your code here. Read input from STDIN. Print output to STDOUT\n",
    "import numpy as np\n",
    "N = int(input())\n",
    "M = [list(map(float, input().split())) for i in range(N)]\n",
    "print(round(np.linalg.det(M),2))\n"
   ]
  }
 ],
 "metadata": {
  "language_info": {
   "name": "python"
  }
 },
 "nbformat": 4,
 "nbformat_minor": 5
}
